{
 "cells": [
  {
   "cell_type": "markdown",
   "id": "3f9176fa-67f2-42ea-b80e-245317fcab12",
   "metadata": {},
   "source": [
    "# this notebook generates venn diagram from two lists of genes"
   ]
  },
  {
   "cell_type": "code",
   "execution_count": 1,
   "id": "0f879cec-0342-459b-a645-763b1ec8ec07",
   "metadata": {},
   "outputs": [],
   "source": [
    "import pandas as pd\n",
    "import numpy as np\n",
    "import sys"
   ]
  },
  {
   "cell_type": "code",
   "execution_count": 2,
   "id": "d3628916-329e-4d3c-af32-150f0dfd5a91",
   "metadata": {},
   "outputs": [],
   "source": [
    "import gc"
   ]
  },
  {
   "cell_type": "code",
   "execution_count": 5,
   "id": "a211664b-1a64-44bd-8b89-b34cded0b1b6",
   "metadata": {},
   "outputs": [],
   "source": [
    "from matplotlib import pyplot as plt\n",
    "import seaborn as sn\n",
    "from matplotlib_venn import venn2"
   ]
  },
  {
   "cell_type": "code",
   "execution_count": 4,
   "id": "fb37d872-41da-4c07-b29e-4fc1c4361b74",
   "metadata": {},
   "outputs": [],
   "source": [
    "import warnings \n",
    "warnings.filterwarnings(\"ignore\")"
   ]
  },
  {
   "cell_type": "code",
   "execution_count": null,
   "id": "3fd28ee8-0528-4c02-ac75-49aa1ca02d6e",
   "metadata": {},
   "outputs": [],
   "source": []
  },
  {
   "cell_type": "code",
   "execution_count": null,
   "id": "3eaee0a1-db84-447f-94bf-1a4aa4f1586e",
   "metadata": {},
   "outputs": [],
   "source": []
  },
  {
   "cell_type": "code",
   "execution_count": null,
   "id": "3c6532ff-ddf9-4f47-ac06-36912c4ad4a1",
   "metadata": {},
   "outputs": [],
   "source": []
  },
  {
   "cell_type": "markdown",
   "id": "2ef31776-91c3-4a23-8553-dbb191253d3f",
   "metadata": {},
   "source": [
    "## plot function"
   ]
  },
  {
   "cell_type": "code",
   "execution_count": 8,
   "id": "1f5bb074-5903-47f8-a0f8-9416074048a9",
   "metadata": {},
   "outputs": [],
   "source": [
    "#getting venn diagram\n",
    "def zc_venn_diagram( list1, list2, name1, name2, \n",
    "                    title = None, ax = None,\n",
    "                    print_elements = False, \n",
    "                    show_fig = True, save_fig = False, save_file_name = 'curr_venn.png'):\n",
    "    \"\"\"This function makes a venn diagram with some basic customized properties\n",
    "    @param list1, list2: the two lists of elements to make venn diagram from. Can be in python list, or pd.Series or np array etc list-like objects\n",
    "    @param name1, name2: the names for each list of elements that will be plotted on the diagram circle\n",
    "    @param title: title of the plot\n",
    "    @param ax: can pass-in an matplotlib Axes object, if not, will create one here\n",
    "    @param print_elements: print out list1-only, list2-only and intersected elements\n",
    "    @param show_fig, save_fig: boolean flags to set\n",
    "    @param save_file_name: if save_fig is set True, need to pass-in a FULL file name to save (eg. venn1.png). If not, will use the defaul curr_venn.png in the current dir\n",
    "    @return the ax for this plot\"\"\"\n",
    "\n",
    "    # create ax \n",
    "    if( not ax):\n",
    "        f, a = plt.subplots()\n",
    "    else:\n",
    "        a = ax\n",
    "\n",
    "    # plot the venn diagram\n",
    "    s1 = set(list1)\n",
    "    s2 = set( list2)\n",
    "    venn2( [ s1, s2 ], (name1, name2), ax= a)\n",
    "\n",
    "    if( print_elements):\n",
    "        intersection_ls = s1.intersection( s2)\n",
    "        \n",
    "        s1_only = s1- intersection_ls\n",
    "        s2_only = s2 - intersection_ls\n",
    "\n",
    "        print( f\"intersection: {intersection_ls}\")\n",
    "        \n",
    "        print( f\"{name1} has: \")\n",
    "        print( f\"{s1_only }\" )\n",
    "        \n",
    "        print( f\"{name2} has: \")\n",
    "        print( f\"{s2_only}\" )        \n",
    "        \n",
    "\n",
    "    # customize plotting \n",
    "    if( title ):\n",
    "        t = a.set_title(title )\n",
    "\n",
    "    if( save_fig):\n",
    "        plt.savefig( save_file_name, bbox_inches='tight' )\n",
    "        \n",
    "    if( show_fig):\n",
    "        plt.show()\n",
    "\n",
    "    return a"
   ]
  },
  {
   "cell_type": "code",
   "execution_count": null,
   "id": "a842a97a-5ef6-418e-b17e-cbfca21164b4",
   "metadata": {},
   "outputs": [],
   "source": []
  },
  {
   "cell_type": "markdown",
   "id": "b10242c9-1906-4db3-b414-79309c26e823",
   "metadata": {},
   "source": [
    "## example usage"
   ]
  },
  {
   "cell_type": "code",
   "execution_count": 11,
   "id": "981a2306-3be5-4d56-a47e-ed241fc8069a",
   "metadata": {},
   "outputs": [],
   "source": [
    "te1 = ['(AGA)n',  '(TGCC)n', 'B1F', 'B1_Mm', 'B2_Mm2', 'Charlie15b', 'ETnERV-int', 'IAPEY4_I'] + ['RLTR4_MM-int', 'RLTR4_Mm', 'RLTR4_Mm', 'RLTR4_Mm', 'RLTR4_Mm', 'RLTR4_Mm', 'RLTR6C_Mm', 'RLTR6_Mm', 'RLTR6_Mm', 'RLTR9E', 'RMER17B2', 'RMER17D', 'RMER19B', 'RMER1B', 'Tigger18a']\n",
    "te2 = ['RLTR4_MM-int', 'L1MC2', 'RMER17B2', 'IAPLTR1_Mm', 'RLTR4_Mm', 'RLTR4_MM-int', 'RLTR4_MM-int', 'RLTR4_MM-int', 'RLTR4_MM-int', 'RLTR4_MM-int']"
   ]
  },
  {
   "cell_type": "code",
   "execution_count": 16,
   "id": "b630844f-3a96-4975-a3a6-b6a1c31932a7",
   "metadata": {},
   "outputs": [
    {
     "data": {
      "image/png": "[encoded data removed]",
      "text/plain": [
       "<Figure size 640x480 with 1 Axes>"
      ]
     },
     "metadata": {},
     "output_type": "display_data"
    },
    {
     "name": "stdout",
     "output_type": "stream",
     "text": [
      "hi\n"
     ]
    }
   ],
   "source": [
    "a = zc_venn_diagram( te1, te2, 'TE1', 'TE2', \n",
    "                    title = \"Significant dTEs at individual locus level\", ax = None, \n",
    "                    show_fig = True, save_fig = False, ) #save_file_name = 'curr_venn.png')"
   ]
  },
  {
   "cell_type": "code",
   "execution_count": 17,
   "id": "02892c29-9e70-4d8b-9752-57a117528b62",
   "metadata": {},
   "outputs": [
    {
     "name": "stdout",
     "output_type": "stream",
     "text": [
      "hi\n"
     ]
    },
    {
     "data": {
      "image/png": "[encoded data removed]",
      "text/plain": [
       "<Figure size 640x480 with 1 Axes>"
      ]
     },
     "metadata": {},
     "output_type": "display_data"
    }
   ],
   "source": [
    "# with saving \n",
    "a = zc_venn_diagram( te1, te2, 'TE1', 'TE2', \n",
    "                    title = \"Significant dTEs at individual locus level\", ax = None, \n",
    "                    show_fig = False, save_fig = True, save_file_name = 'test_TE_venn.png')"
   ]
  },
  {
   "cell_type": "code",
   "execution_count": null,
   "id": "885ce023-5b45-4bc6-8ddd-9ae2addc182a",
   "metadata": {},
   "outputs": [],
   "source": []
  }
 ],
 "metadata": {
  "kernelspec": {
   "display_name": "qc_pipe",
   "language": "python",
   "name": "qc_pipe"
  },
  "language_info": {
   "codemirror_mode": {
    "name": "ipython",
    "version": 3
   },
   "file_extension": ".py",
   "mimetype": "text/x-python",
   "name": "python",
   "nbconvert_exporter": "python",
   "pygments_lexer": "ipython3",
   "version": "3.8.5"
  }
 },
 "nbformat": 4,
 "nbformat_minor": 5
}
